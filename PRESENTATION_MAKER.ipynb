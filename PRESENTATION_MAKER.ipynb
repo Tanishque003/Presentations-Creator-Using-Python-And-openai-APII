{
  "nbformat": 4,
  "nbformat_minor": 0,
  "metadata": {
    "colab": {
      "provenance": []
    },
    "kernelspec": {
      "name": "python3",
      "display_name": "Python 3"
    },
    "language_info": {
      "name": "python"
    }
  },
  "cells": [
    {
      "cell_type": "code",
      "execution_count": null,
      "metadata": {
        "id": "-saMwn1qq7eV"
      },
      "outputs": [],
      "source": []
    },
    {
      "cell_type": "code",
      "source": [
        "import openai\n",
        "from pptx import Presentation\n",
        "from pptx.util import Pt\n",
        "from pptx.enum.text import PP_ALIGN\n",
        "import requests\n",
        "from io import BytesIO\n",
        "from pptx.dml.color import RGBColor\n",
        "from PIL import Image\n",
        "\n",
        "# Replace 'YOUR_API_KEY' with your actual OpenAI API key\n",
        "api_key = !@#$%^\n",
        "\n",
        "# Function to generate content for a slide using ChatGPT-3.5\n",
        "def generate_slide_content(topic):\n",
        "    prompt = f\"Create a PowerPoint slide on the topic of '{topic}' with creative and engaging content.\"\n",
        "    response = openai.Completion.create(\n",
        "        engine=\"text-davinci-003\",  # Use ChatGPT-3.5\n",
        "        prompt=prompt,\n",
        "        max_tokens=150,  # Adjust the max tokens as needed\n",
        "        api_key=api_key\n",
        "    )\n",
        "    return response.choices[0].text\n",
        "\n",
        "# Prompt for the user's topic input\n",
        "user_topic = input(\"Enter the topic for your presentation: \")\n",
        "\n",
        "# Define the PowerPoint output file name\n",
        "pptx_file = 'presentation.pptx'\n",
        "\n",
        "# Create a new PowerPoint presentation\n",
        "prs = Presentation()\n",
        "\n",
        "# Function to add a slide with a title, content, and image\n",
        "def add_slide_with_title_content_and_image(title, content, image_url=None):\n",
        "    slide = prs.slides.add_slide(prs.slide_layouts[5])  # Use a blank slide layout\n",
        "\n",
        "    title_shape = slide.shapes.title\n",
        "    title_shape.text = title\n",
        "    title_shape.text_frame.paragraphs[0].alignment = PP_ALIGN.LEFT\n",
        "    title_shape.text_frame.paragraphs[0].font.size = Pt(24)  # Adjust font size\n",
        "    title_shape.text_frame.paragraphs[0].font.bold = True  # Make the title bold\n",
        "    title_shape.text_frame.paragraphs[0].font.color.rgb = RGBColor(0, 0, 255)  # Change title color to blue\n",
        "\n",
        "    left = Pt(36)  # Use points for positioning\n",
        "    top = Pt(72)\n",
        "    width = Pt(504)\n",
        "    height = Pt(324)\n",
        "\n",
        "    text_box = slide.shapes.add_textbox(left, top, width, height)\n",
        "    text_frame = text_box.text_frame\n",
        "    text_frame.word_wrap = True\n",
        "    text_frame.alignment = PP_ALIGN.LEFT\n",
        "\n",
        "    p = text_frame.add_paragraph()\n",
        "    p.alignment = PP_ALIGN.LEFT\n",
        "    p.space_after = Pt(14)\n",
        "    p.space_before = Pt(14)\n",
        "    p.text = content\n",
        "\n",
        "    if image_url:\n",
        "        response = requests.get(image_url)\n",
        "        img = Image.open(BytesIO(response.content))\n",
        "        img_path = 'temp_image.png'\n",
        "        img.save(img_path)\n",
        "        slide.shapes.add_picture(img_path, left, top, width, height)\n",
        "\n",
        "# Generate 7 slides using ChatGPT-3.5\n",
        "for i in range(7):\n",
        "    slide_topic = f\"{user_topic} - Slide {i + 1}\"\n",
        "    slide_content = generate_slide_content(slide_topic)\n",
        "    slide_image_url = None  # You can add an image URL here if desired\n",
        "\n",
        "    add_slide_with_title_content_and_image(slide_topic, slide_content, slide_image_url)\n",
        "\n",
        "# Save the PowerPoint presentation to a file\n",
        "prs.save(pptx_file)\n",
        "\n",
        "print(f\"Presentation on '{user_topic}' has been created and saved as '{pptx_file}'.\")\n"
      ],
      "metadata": {
        "id": "MqatiW3JmVIg",
        "colab": {
          "base_uri": "https://localhost:8080/"
        },
        "outputId": "88b4697e-a936-498d-f0b3-3a9cc776e8e5"
      },
      "execution_count": null,
      "outputs": [
        {
          "name": "stdout",
          "output_type": "stream",
          "text": [
            "Enter the topic for your presentation: dsa\n"
          ]
        }
      ]
    }
  ]
}